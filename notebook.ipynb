{
 "cells": [
  {
   "cell_type": "code",
   "execution_count": 179,
   "metadata": {},
   "outputs": [],
   "source": [
    "import pandas as pd\n",
    "import numpy as np\n",
    "import seaborn as sns\n",
    "import matplotlib.pyplot as plt\n",
    "%matplotlib inline\n",
    "\n",
    "from sklearn.impute import SimpleImputer\n",
    "import category_encoders as ce \n",
    "from sklearn.preprocessing import StandardScaler\n",
    "from sklearn.model_selection import train_test_split\n",
    "from sklearn.ensemble import RandomForestRegressor,ExtraTreesRegressor,GradientBoostingRegressor\n",
    "from sklearn.linear_model import LinearRegression,GammaRegressor,PassiveAggressiveRegressor\n",
    "from sklearn.tree import DecisionTreeRegressor\n",
    "from sklearn.neighbors import KNeighborsRegressor\n",
    "from xgboost import XGBRegressor\n",
    "from sklearn.metrics import r2_score\n",
    "from sklearn.svm import SVR\n"
   ]
  },
  {
   "cell_type": "code",
   "execution_count": 180,
   "metadata": {},
   "outputs": [],
   "source": [
    "df = pd.read_csv(\"Data/train.csv\")"
   ]
  },
  {
   "cell_type": "code",
   "execution_count": 181,
   "metadata": {},
   "outputs": [
    {
     "data": {
      "text/plain": [
       "(19109, 36)"
      ]
     },
     "execution_count": 181,
     "metadata": {},
     "output_type": "execute_result"
    }
   ],
   "source": [
    "df.shape"
   ]
  },
  {
   "cell_type": "code",
   "execution_count": 182,
   "metadata": {},
   "outputs": [
    {
     "data": {
      "text/plain": [
       "brand                             2\n",
       "model                             2\n",
       "year                              2\n",
       "mileage                           2\n",
       "engine                           47\n",
       "engine_size                    1249\n",
       "transmission                    105\n",
       "automatic_transmission            2\n",
       "fuel_type                         2\n",
       "drivetrain                        2\n",
       "min_mpg                        3006\n",
       "max_mpg                        3006\n",
       "damaged                         169\n",
       "first_owner                     306\n",
       "personal_using                  189\n",
       "turbo                             2\n",
       "alloy_wheels                      2\n",
       "adaptive_cruise_control           2\n",
       "navigation_system                 2\n",
       "power_liftgate                    2\n",
       "backup_camera                     2\n",
       "keyless_start                     2\n",
       "remote_start                      2\n",
       "sunroof/moonroof                  2\n",
       "automatic_emergency_braking       2\n",
       "stability_control                 2\n",
       "leather_seats                     2\n",
       "memory_seat                       2\n",
       "third_row_seating                 2\n",
       "apple_car_play/android_auto       2\n",
       "bluetooth                         2\n",
       "usb_port                          2\n",
       "heated_seats                      2\n",
       "interior_color                 1157\n",
       "exterior_color                  209\n",
       "price                             2\n",
       "dtype: int64"
      ]
     },
     "execution_count": 182,
     "metadata": {},
     "output_type": "execute_result"
    }
   ],
   "source": [
    "df.isnull().sum()"
   ]
  },
  {
   "cell_type": "code",
   "execution_count": 183,
   "metadata": {},
   "outputs": [
    {
     "name": "stdout",
     "output_type": "stream",
     "text": [
      "<class 'pandas.core.frame.DataFrame'>\n",
      "RangeIndex: 19109 entries, 0 to 19108\n",
      "Data columns (total 36 columns):\n",
      " #   Column                       Non-Null Count  Dtype  \n",
      "---  ------                       --------------  -----  \n",
      " 0   brand                        19107 non-null  object \n",
      " 1   model                        19107 non-null  object \n",
      " 2   year                         19107 non-null  float64\n",
      " 3   mileage                      19107 non-null  float64\n",
      " 4   engine                       19062 non-null  object \n",
      " 5   engine_size                  17860 non-null  float64\n",
      " 6   transmission                 19004 non-null  object \n",
      " 7   automatic_transmission       19107 non-null  float64\n",
      " 8   fuel_type                    19107 non-null  object \n",
      " 9   drivetrain                   19107 non-null  object \n",
      " 10  min_mpg                      16103 non-null  float64\n",
      " 11  max_mpg                      16103 non-null  float64\n",
      " 12  damaged                      18940 non-null  float64\n",
      " 13  first_owner                  18803 non-null  float64\n",
      " 14  personal_using               18920 non-null  float64\n",
      " 15  turbo                        19107 non-null  float64\n",
      " 16  alloy_wheels                 19107 non-null  float64\n",
      " 17  adaptive_cruise_control      19107 non-null  float64\n",
      " 18  navigation_system            19107 non-null  float64\n",
      " 19  power_liftgate               19107 non-null  float64\n",
      " 20  backup_camera                19107 non-null  float64\n",
      " 21  keyless_start                19107 non-null  float64\n",
      " 22  remote_start                 19107 non-null  float64\n",
      " 23  sunroof/moonroof             19107 non-null  float64\n",
      " 24  automatic_emergency_braking  19107 non-null  float64\n",
      " 25  stability_control            19107 non-null  float64\n",
      " 26  leather_seats                19107 non-null  float64\n",
      " 27  memory_seat                  19107 non-null  float64\n",
      " 28  third_row_seating            19107 non-null  float64\n",
      " 29  apple_car_play/android_auto  19107 non-null  float64\n",
      " 30  bluetooth                    19107 non-null  float64\n",
      " 31  usb_port                     19107 non-null  float64\n",
      " 32  heated_seats                 19107 non-null  float64\n",
      " 33  interior_color               17952 non-null  object \n",
      " 34  exterior_color               18900 non-null  object \n",
      " 35  price                        19107 non-null  object \n",
      "dtypes: float64(27), object(9)\n",
      "memory usage: 5.2+ MB\n"
     ]
    }
   ],
   "source": [
    "df.info()"
   ]
  },
  {
   "cell_type": "code",
   "execution_count": 185,
   "metadata": {},
   "outputs": [
    {
     "data": {
      "text/plain": [
       "Index(['brand', 'model', 'year', 'mileage', 'engine', 'engine_size',\n",
       "       'transmission', 'automatic_transmission', 'fuel_type', 'drivetrain',\n",
       "       'min_mpg', 'max_mpg', 'damaged', 'first_owner', 'personal_using',\n",
       "       'turbo', 'alloy_wheels', 'adaptive_cruise_control', 'navigation_system',\n",
       "       'power_liftgate', 'backup_camera', 'keyless_start', 'remote_start',\n",
       "       'sunroofmoonroof', 'automatic_emergency_braking', 'stability_control',\n",
       "       'leather_seats', 'memory_seat', 'third_row_seating',\n",
       "       'apple_car_playandroid_auto', 'bluetooth', 'usb_port', 'heated_seats',\n",
       "       'interior_color', 'exterior_color', 'price'],\n",
       "      dtype='object')"
      ]
     },
     "execution_count": 185,
     "metadata": {},
     "output_type": "execute_result"
    }
   ],
   "source": [
    "df.columns=df.columns.str.replace(\"/\",\"\")"
   ]
  },
  {
   "cell_type": "code",
   "execution_count": 139,
   "metadata": {},
   "outputs": [
    {
     "data": {
      "text/html": [
       "<div>\n",
       "<style scoped>\n",
       "    .dataframe tbody tr th:only-of-type {\n",
       "        vertical-align: middle;\n",
       "    }\n",
       "\n",
       "    .dataframe tbody tr th {\n",
       "        vertical-align: top;\n",
       "    }\n",
       "\n",
       "    .dataframe thead th {\n",
       "        text-align: right;\n",
       "    }\n",
       "</style>\n",
       "<table border=\"1\" class=\"dataframe\">\n",
       "  <thead>\n",
       "    <tr style=\"text-align: right;\">\n",
       "      <th></th>\n",
       "      <th>brand</th>\n",
       "      <th>model</th>\n",
       "      <th>year</th>\n",
       "      <th>mileage</th>\n",
       "      <th>engine</th>\n",
       "      <th>engine_size</th>\n",
       "      <th>transmission</th>\n",
       "      <th>automatic_transmission</th>\n",
       "      <th>fuel_type</th>\n",
       "      <th>drivetrain</th>\n",
       "      <th>...</th>\n",
       "      <th>leather_seats</th>\n",
       "      <th>memory_seat</th>\n",
       "      <th>third_row_seating</th>\n",
       "      <th>apple_car_play/android_auto</th>\n",
       "      <th>bluetooth</th>\n",
       "      <th>usb_port</th>\n",
       "      <th>heated_seats</th>\n",
       "      <th>interior_color</th>\n",
       "      <th>exterior_color</th>\n",
       "      <th>price</th>\n",
       "    </tr>\n",
       "  </thead>\n",
       "  <tbody>\n",
       "    <tr>\n",
       "      <th>0</th>\n",
       "      <td>Mazda</td>\n",
       "      <td>CX-9 Touring</td>\n",
       "      <td>2022.0</td>\n",
       "      <td>6580.0</td>\n",
       "      <td>2.5L I4 16V GDI DOHC Turbo</td>\n",
       "      <td>2.5</td>\n",
       "      <td>6-Speed Automatic</td>\n",
       "      <td>1.0</td>\n",
       "      <td>Gasoline</td>\n",
       "      <td>Four-wheel Drive</td>\n",
       "      <td>...</td>\n",
       "      <td>1.0</td>\n",
       "      <td>0.0</td>\n",
       "      <td>1.0</td>\n",
       "      <td>1.0</td>\n",
       "      <td>0.0</td>\n",
       "      <td>0.0</td>\n",
       "      <td>1.0</td>\n",
       "      <td>Black</td>\n",
       "      <td>Snowflake White Pearl</td>\n",
       "      <td>36789</td>\n",
       "    </tr>\n",
       "    <tr>\n",
       "      <th>1</th>\n",
       "      <td>Alfa</td>\n",
       "      <td>Romeo Stelvio 4DR SUV AWD</td>\n",
       "      <td>2018.0</td>\n",
       "      <td>62717.0</td>\n",
       "      <td>Twin Turbo Premium Unleaded V-6 2.9 L/176</td>\n",
       "      <td>2.9</td>\n",
       "      <td>Automatic</td>\n",
       "      <td>1.0</td>\n",
       "      <td>Gasoline</td>\n",
       "      <td>Four-wheel Drive</td>\n",
       "      <td>...</td>\n",
       "      <td>0.0</td>\n",
       "      <td>1.0</td>\n",
       "      <td>0.0</td>\n",
       "      <td>1.0</td>\n",
       "      <td>1.0</td>\n",
       "      <td>0.0</td>\n",
       "      <td>0.0</td>\n",
       "      <td>Black</td>\n",
       "      <td>Rosso Competizione Tri-Coat</td>\n",
       "      <td>39993</td>\n",
       "    </tr>\n",
       "    <tr>\n",
       "      <th>2</th>\n",
       "      <td>Chevrolet</td>\n",
       "      <td>Silverado 1500 Limited LT</td>\n",
       "      <td>2022.0</td>\n",
       "      <td>15463.0</td>\n",
       "      <td>5.3L V8 16V GDI OHV</td>\n",
       "      <td>5.3</td>\n",
       "      <td>Automatic</td>\n",
       "      <td>1.0</td>\n",
       "      <td>Gasoline</td>\n",
       "      <td>Four-wheel Drive</td>\n",
       "      <td>...</td>\n",
       "      <td>0.0</td>\n",
       "      <td>0.0</td>\n",
       "      <td>0.0</td>\n",
       "      <td>0.0</td>\n",
       "      <td>0.0</td>\n",
       "      <td>0.0</td>\n",
       "      <td>1.0</td>\n",
       "      <td>Jet Black</td>\n",
       "      <td>Silver Ice Metallic</td>\n",
       "      <td>46986</td>\n",
       "    </tr>\n",
       "    <tr>\n",
       "      <th>3</th>\n",
       "      <td>Land</td>\n",
       "      <td>Rover Range Rover P400 SE</td>\n",
       "      <td>2022.0</td>\n",
       "      <td>1281.0</td>\n",
       "      <td>3.0L I6 24V GDI DOHC Turbo</td>\n",
       "      <td>3.0</td>\n",
       "      <td>Automatic</td>\n",
       "      <td>1.0</td>\n",
       "      <td>Gasoline</td>\n",
       "      <td>Four-wheel Drive</td>\n",
       "      <td>...</td>\n",
       "      <td>1.0</td>\n",
       "      <td>1.0</td>\n",
       "      <td>0.0</td>\n",
       "      <td>0.0</td>\n",
       "      <td>0.0</td>\n",
       "      <td>0.0</td>\n",
       "      <td>1.0</td>\n",
       "      <td>Ebony</td>\n",
       "      <td>Fuji White</td>\n",
       "      <td>141999</td>\n",
       "    </tr>\n",
       "    <tr>\n",
       "      <th>4</th>\n",
       "      <td>Mitsubishi</td>\n",
       "      <td>Outlander Sport 2.0 SE</td>\n",
       "      <td>2021.0</td>\n",
       "      <td>36727.0</td>\n",
       "      <td>2.0L I4 16V MPFI DOHC</td>\n",
       "      <td>2.0</td>\n",
       "      <td>Automatic CVT</td>\n",
       "      <td>1.0</td>\n",
       "      <td>Gasoline</td>\n",
       "      <td>Front-wheel Drive</td>\n",
       "      <td>...</td>\n",
       "      <td>0.0</td>\n",
       "      <td>0.0</td>\n",
       "      <td>0.0</td>\n",
       "      <td>1.0</td>\n",
       "      <td>1.0</td>\n",
       "      <td>1.0</td>\n",
       "      <td>1.0</td>\n",
       "      <td>Black</td>\n",
       "      <td>White</td>\n",
       "      <td>21595</td>\n",
       "    </tr>\n",
       "    <tr>\n",
       "      <th>...</th>\n",
       "      <td>...</td>\n",
       "      <td>...</td>\n",
       "      <td>...</td>\n",
       "      <td>...</td>\n",
       "      <td>...</td>\n",
       "      <td>...</td>\n",
       "      <td>...</td>\n",
       "      <td>...</td>\n",
       "      <td>...</td>\n",
       "      <td>...</td>\n",
       "      <td>...</td>\n",
       "      <td>...</td>\n",
       "      <td>...</td>\n",
       "      <td>...</td>\n",
       "      <td>...</td>\n",
       "      <td>...</td>\n",
       "      <td>...</td>\n",
       "      <td>...</td>\n",
       "      <td>...</td>\n",
       "      <td>...</td>\n",
       "      <td>...</td>\n",
       "    </tr>\n",
       "    <tr>\n",
       "      <th>19070</th>\n",
       "      <td>Lexus</td>\n",
       "      <td>RC 350 Base</td>\n",
       "      <td>2017.0</td>\n",
       "      <td>77886.0</td>\n",
       "      <td>3.5L V6 24V PDI DOHC</td>\n",
       "      <td>3.5</td>\n",
       "      <td>8-Speed Automatic</td>\n",
       "      <td>1.0</td>\n",
       "      <td>Gasoline</td>\n",
       "      <td>Rear-wheel Drive</td>\n",
       "      <td>...</td>\n",
       "      <td>1.0</td>\n",
       "      <td>1.0</td>\n",
       "      <td>0.0</td>\n",
       "      <td>0.0</td>\n",
       "      <td>1.0</td>\n",
       "      <td>1.0</td>\n",
       "      <td>1.0</td>\n",
       "      <td>Black</td>\n",
       "      <td>Obsidian Black</td>\n",
       "      <td>30023</td>\n",
       "    </tr>\n",
       "    <tr>\n",
       "      <th>19071</th>\n",
       "      <td>Chevrolet</td>\n",
       "      <td>Camaro 2SS</td>\n",
       "      <td>2020.0</td>\n",
       "      <td>30921.0</td>\n",
       "      <td>6.2L V8 16V GDI OHV</td>\n",
       "      <td>6.2</td>\n",
       "      <td>10-Speed Automatic</td>\n",
       "      <td>1.0</td>\n",
       "      <td>Gasoline</td>\n",
       "      <td>Rear-wheel Drive</td>\n",
       "      <td>...</td>\n",
       "      <td>1.0</td>\n",
       "      <td>1.0</td>\n",
       "      <td>0.0</td>\n",
       "      <td>1.0</td>\n",
       "      <td>1.0</td>\n",
       "      <td>1.0</td>\n",
       "      <td>0.0</td>\n",
       "      <td>Jet Black</td>\n",
       "      <td>Black</td>\n",
       "      <td>42500</td>\n",
       "    </tr>\n",
       "    <tr>\n",
       "      <th>19072</th>\n",
       "      <td>Hyundai</td>\n",
       "      <td>Palisade Calligraphy</td>\n",
       "      <td>2021.0</td>\n",
       "      <td>25490.0</td>\n",
       "      <td>3.8L V6 24V GDI DOHC</td>\n",
       "      <td>3.8</td>\n",
       "      <td>8-Speed Automatic</td>\n",
       "      <td>1.0</td>\n",
       "      <td>Gasoline</td>\n",
       "      <td>Four-wheel Drive</td>\n",
       "      <td>...</td>\n",
       "      <td>1.0</td>\n",
       "      <td>1.0</td>\n",
       "      <td>1.0</td>\n",
       "      <td>0.0</td>\n",
       "      <td>1.0</td>\n",
       "      <td>0.0</td>\n",
       "      <td>1.0</td>\n",
       "      <td>Black</td>\n",
       "      <td>Becketts Black</td>\n",
       "      <td>43999</td>\n",
       "    </tr>\n",
       "    <tr>\n",
       "      <th>19073</th>\n",
       "      <td>Honda</td>\n",
       "      <td>Accord Sport</td>\n",
       "      <td>2019.0</td>\n",
       "      <td>30840.0</td>\n",
       "      <td>1.5L I4 16V GDI DOHC Turbo</td>\n",
       "      <td>1.5</td>\n",
       "      <td>Automatic CVT</td>\n",
       "      <td>1.0</td>\n",
       "      <td>Gasoline</td>\n",
       "      <td>Front-wheel Drive</td>\n",
       "      <td>...</td>\n",
       "      <td>0.0</td>\n",
       "      <td>0.0</td>\n",
       "      <td>0.0</td>\n",
       "      <td>1.0</td>\n",
       "      <td>1.0</td>\n",
       "      <td>1.0</td>\n",
       "      <td>0.0</td>\n",
       "      <td>Gray</td>\n",
       "      <td>White</td>\n",
       "      <td>26998</td>\n",
       "    </tr>\n",
       "    <tr>\n",
       "      <th>19074</th>\n",
       "      <td>MINI</td>\n",
       "      <td>Countryman Cooper S ALL4</td>\n",
       "      <td>2016.0</td>\n",
       "      <td>110107.0</td>\n",
       "      <td>1.6L I4 16V GDI DOHC Turbo</td>\n",
       "      <td>1.6</td>\n",
       "      <td>6-Speed Automatic</td>\n",
       "      <td>1.0</td>\n",
       "      <td>Gasoline</td>\n",
       "      <td>Four-wheel Drive</td>\n",
       "      <td>...</td>\n",
       "      <td>1.0</td>\n",
       "      <td>0.0</td>\n",
       "      <td>0.0</td>\n",
       "      <td>0.0</td>\n",
       "      <td>1.0</td>\n",
       "      <td>1.0</td>\n",
       "      <td>1.0</td>\n",
       "      <td>Carbon Black</td>\n",
       "      <td>Absolute Black Metallic</td>\n",
       "      <td>15382</td>\n",
       "    </tr>\n",
       "  </tbody>\n",
       "</table>\n",
       "<p>19075 rows × 36 columns</p>\n",
       "</div>"
      ],
      "text/plain": [
       "            brand                      model    year   mileage  \\\n",
       "0           Mazda               CX-9 Touring  2022.0    6580.0   \n",
       "1            Alfa  Romeo Stelvio 4DR SUV AWD  2018.0   62717.0   \n",
       "2       Chevrolet  Silverado 1500 Limited LT  2022.0   15463.0   \n",
       "3            Land  Rover Range Rover P400 SE  2022.0    1281.0   \n",
       "4      Mitsubishi     Outlander Sport 2.0 SE  2021.0   36727.0   \n",
       "...           ...                        ...     ...       ...   \n",
       "19070       Lexus                RC 350 Base  2017.0   77886.0   \n",
       "19071   Chevrolet                 Camaro 2SS  2020.0   30921.0   \n",
       "19072     Hyundai       Palisade Calligraphy  2021.0   25490.0   \n",
       "19073       Honda               Accord Sport  2019.0   30840.0   \n",
       "19074        MINI   Countryman Cooper S ALL4  2016.0  110107.0   \n",
       "\n",
       "                                          engine  engine_size  \\\n",
       "0                     2.5L I4 16V GDI DOHC Turbo          2.5   \n",
       "1      Twin Turbo Premium Unleaded V-6 2.9 L/176          2.9   \n",
       "2                            5.3L V8 16V GDI OHV          5.3   \n",
       "3                     3.0L I6 24V GDI DOHC Turbo          3.0   \n",
       "4                          2.0L I4 16V MPFI DOHC          2.0   \n",
       "...                                          ...          ...   \n",
       "19070                       3.5L V6 24V PDI DOHC          3.5   \n",
       "19071                        6.2L V8 16V GDI OHV          6.2   \n",
       "19072                       3.8L V6 24V GDI DOHC          3.8   \n",
       "19073                 1.5L I4 16V GDI DOHC Turbo          1.5   \n",
       "19074                 1.6L I4 16V GDI DOHC Turbo          1.6   \n",
       "\n",
       "             transmission  automatic_transmission fuel_type  \\\n",
       "0       6-Speed Automatic                     1.0  Gasoline   \n",
       "1               Automatic                     1.0  Gasoline   \n",
       "2               Automatic                     1.0  Gasoline   \n",
       "3               Automatic                     1.0  Gasoline   \n",
       "4           Automatic CVT                     1.0  Gasoline   \n",
       "...                   ...                     ...       ...   \n",
       "19070   8-Speed Automatic                     1.0  Gasoline   \n",
       "19071  10-Speed Automatic                     1.0  Gasoline   \n",
       "19072   8-Speed Automatic                     1.0  Gasoline   \n",
       "19073       Automatic CVT                     1.0  Gasoline   \n",
       "19074   6-Speed Automatic                     1.0  Gasoline   \n",
       "\n",
       "              drivetrain  ...  leather_seats  memory_seat  third_row_seating  \\\n",
       "0       Four-wheel Drive  ...            1.0          0.0                1.0   \n",
       "1       Four-wheel Drive  ...            0.0          1.0                0.0   \n",
       "2       Four-wheel Drive  ...            0.0          0.0                0.0   \n",
       "3       Four-wheel Drive  ...            1.0          1.0                0.0   \n",
       "4      Front-wheel Drive  ...            0.0          0.0                0.0   \n",
       "...                  ...  ...            ...          ...                ...   \n",
       "19070   Rear-wheel Drive  ...            1.0          1.0                0.0   \n",
       "19071   Rear-wheel Drive  ...            1.0          1.0                0.0   \n",
       "19072   Four-wheel Drive  ...            1.0          1.0                1.0   \n",
       "19073  Front-wheel Drive  ...            0.0          0.0                0.0   \n",
       "19074   Four-wheel Drive  ...            1.0          0.0                0.0   \n",
       "\n",
       "       apple_car_play/android_auto  bluetooth  usb_port  heated_seats  \\\n",
       "0                              1.0        0.0       0.0           1.0   \n",
       "1                              1.0        1.0       0.0           0.0   \n",
       "2                              0.0        0.0       0.0           1.0   \n",
       "3                              0.0        0.0       0.0           1.0   \n",
       "4                              1.0        1.0       1.0           1.0   \n",
       "...                            ...        ...       ...           ...   \n",
       "19070                          0.0        1.0       1.0           1.0   \n",
       "19071                          1.0        1.0       1.0           0.0   \n",
       "19072                          0.0        1.0       0.0           1.0   \n",
       "19073                          1.0        1.0       1.0           0.0   \n",
       "19074                          0.0        1.0       1.0           1.0   \n",
       "\n",
       "       interior_color               exterior_color   price  \n",
       "0               Black        Snowflake White Pearl   36789  \n",
       "1               Black  Rosso Competizione Tri-Coat   39993  \n",
       "2           Jet Black          Silver Ice Metallic   46986  \n",
       "3               Ebony                   Fuji White  141999  \n",
       "4               Black                        White   21595  \n",
       "...               ...                          ...     ...  \n",
       "19070           Black               Obsidian Black   30023  \n",
       "19071       Jet Black                        Black   42500  \n",
       "19072           Black               Becketts Black   43999  \n",
       "19073            Gray                        White   26998  \n",
       "19074    Carbon Black      Absolute Black Metallic   15382  \n",
       "\n",
       "[19075 rows x 36 columns]"
      ]
     },
     "execution_count": 139,
     "metadata": {},
     "output_type": "execute_result"
    }
   ],
   "source": [
    "df=df.drop(df[df[\"price\"]==\"ot Priced\"].index)\n",
    "df.price=df.price.fillna(\"o\")\n",
    "df=df.drop(df[df['price']==\"o\"].index)\n",
    "df.reset_index(drop=True)"
   ]
  },
  {
   "cell_type": "code",
   "execution_count": 140,
   "metadata": {},
   "outputs": [],
   "source": [
    "df['price']=df['price'].astype('Int32')"
   ]
  },
  {
   "cell_type": "code",
   "execution_count": 141,
   "metadata": {},
   "outputs": [
    {
     "data": {
      "text/plain": [
       "max_mpg                        15.743119\n",
       "min_mpg                        15.743119\n",
       "engine_size                     6.537353\n",
       "interior_color                  6.007864\n",
       "first_owner                     1.588467\n",
       "exterior_color                  1.069463\n",
       "personal_using                  0.975098\n",
       "damaged                         0.870249\n",
       "transmission                    0.513761\n",
       "engine                          0.235911\n",
       "third_row_seating               0.000000\n",
       "automatic_emergency_braking     0.000000\n",
       "stability_control               0.000000\n",
       "leather_seats                   0.000000\n",
       "memory_seat                     0.000000\n",
       "brand                           0.000000\n",
       "apple_car_play/android_auto     0.000000\n",
       "remote_start                    0.000000\n",
       "bluetooth                       0.000000\n",
       "usb_port                        0.000000\n",
       "heated_seats                    0.000000\n",
       "sunroof/moonroof                0.000000\n",
       "navigation_system               0.000000\n",
       "keyless_start                   0.000000\n",
       "backup_camera                   0.000000\n",
       "power_liftgate                  0.000000\n",
       "model                           0.000000\n",
       "adaptive_cruise_control         0.000000\n",
       "alloy_wheels                    0.000000\n",
       "turbo                           0.000000\n",
       "drivetrain                      0.000000\n",
       "fuel_type                       0.000000\n",
       "automatic_transmission          0.000000\n",
       "mileage                         0.000000\n",
       "year                            0.000000\n",
       "price                           0.000000\n",
       "dtype: float64"
      ]
     },
     "execution_count": 141,
     "metadata": {},
     "output_type": "execute_result"
    }
   ],
   "source": [
    "((df.isnull().sum()/df.shape[0])*100).sort_values(ascending=False)"
   ]
  },
  {
   "cell_type": "code",
   "execution_count": 142,
   "metadata": {},
   "outputs": [],
   "source": [
    "# missing value analysis and imputations\n",
    "data=[]\n",
    "for i in df.columns.to_list():\n",
    "    if df[i].dtype==\"O\":\n",
    "        data.append([i,df[i].unique(),df[i].nunique()])\n",
    "uniques=pd.DataFrame(data=data,columns=[\"colname\",\"unique\",\"nunique\"])"
   ]
  },
  {
   "cell_type": "code",
   "execution_count": 143,
   "metadata": {},
   "outputs": [
    {
     "data": {
      "text/html": [
       "<div>\n",
       "<style scoped>\n",
       "    .dataframe tbody tr th:only-of-type {\n",
       "        vertical-align: middle;\n",
       "    }\n",
       "\n",
       "    .dataframe tbody tr th {\n",
       "        vertical-align: top;\n",
       "    }\n",
       "\n",
       "    .dataframe thead th {\n",
       "        text-align: right;\n",
       "    }\n",
       "</style>\n",
       "<table border=\"1\" class=\"dataframe\">\n",
       "  <thead>\n",
       "    <tr style=\"text-align: right;\">\n",
       "      <th></th>\n",
       "      <th>colname</th>\n",
       "      <th>unique</th>\n",
       "      <th>nunique</th>\n",
       "    </tr>\n",
       "  </thead>\n",
       "  <tbody>\n",
       "    <tr>\n",
       "      <th>0</th>\n",
       "      <td>brand</td>\n",
       "      <td>[Mazda, Alfa, Chevrolet, Land, Mitsubishi, FIA...</td>\n",
       "      <td>25</td>\n",
       "    </tr>\n",
       "    <tr>\n",
       "      <th>1</th>\n",
       "      <td>model</td>\n",
       "      <td>[CX-9 Touring, Romeo Stelvio 4DR SUV AWD, Silv...</td>\n",
       "      <td>3494</td>\n",
       "    </tr>\n",
       "    <tr>\n",
       "      <th>2</th>\n",
       "      <td>engine</td>\n",
       "      <td>[2.5L I4 16V GDI DOHC Turbo, Twin Turbo Premiu...</td>\n",
       "      <td>1162</td>\n",
       "    </tr>\n",
       "    <tr>\n",
       "      <th>3</th>\n",
       "      <td>transmission</td>\n",
       "      <td>[6-Speed Automatic, Automatic, Automatic CVT, ...</td>\n",
       "      <td>189</td>\n",
       "    </tr>\n",
       "    <tr>\n",
       "      <th>4</th>\n",
       "      <td>fuel_type</td>\n",
       "      <td>[Gasoline, Hybrid, E85 Flex Fuel, Electric, Di...</td>\n",
       "      <td>10</td>\n",
       "    </tr>\n",
       "    <tr>\n",
       "      <th>5</th>\n",
       "      <td>drivetrain</td>\n",
       "      <td>[Four-wheel Drive, Front-wheel Drive, Rear-whe...</td>\n",
       "      <td>5</td>\n",
       "    </tr>\n",
       "    <tr>\n",
       "      <th>6</th>\n",
       "      <td>interior_color</td>\n",
       "      <td>[Black, Jet Black, Ebony, Gray, Saddle, Carbon...</td>\n",
       "      <td>957</td>\n",
       "    </tr>\n",
       "    <tr>\n",
       "      <th>7</th>\n",
       "      <td>exterior_color</td>\n",
       "      <td>[Snowflake White Pearl, Rosso Competizione Tri...</td>\n",
       "      <td>1941</td>\n",
       "    </tr>\n",
       "  </tbody>\n",
       "</table>\n",
       "</div>"
      ],
      "text/plain": [
       "          colname                                             unique  nunique\n",
       "0           brand  [Mazda, Alfa, Chevrolet, Land, Mitsubishi, FIA...       25\n",
       "1           model  [CX-9 Touring, Romeo Stelvio 4DR SUV AWD, Silv...     3494\n",
       "2          engine  [2.5L I4 16V GDI DOHC Turbo, Twin Turbo Premiu...     1162\n",
       "3    transmission  [6-Speed Automatic, Automatic, Automatic CVT, ...      189\n",
       "4       fuel_type  [Gasoline, Hybrid, E85 Flex Fuel, Electric, Di...       10\n",
       "5      drivetrain  [Four-wheel Drive, Front-wheel Drive, Rear-whe...        5\n",
       "6  interior_color  [Black, Jet Black, Ebony, Gray, Saddle, Carbon...      957\n",
       "7  exterior_color  [Snowflake White Pearl, Rosso Competizione Tri...     1941"
      ]
     },
     "execution_count": 143,
     "metadata": {},
     "output_type": "execute_result"
    }
   ],
   "source": [
    "uniques"
   ]
  },
  {
   "cell_type": "code",
   "execution_count": 144,
   "metadata": {},
   "outputs": [
    {
     "data": {
      "text/plain": [
       "0"
      ]
     },
     "execution_count": 144,
     "metadata": {},
     "output_type": "execute_result"
    }
   ],
   "source": [
    "df.duplicated().sum()"
   ]
  },
  {
   "cell_type": "code",
   "execution_count": 145,
   "metadata": {},
   "outputs": [],
   "source": [
    "obj=df.select_dtypes(include=\"object\").columns.to_list()\n",
    "flo=df.select_dtypes(include=\"float\").columns.to_list()\n",
    "inte=df.select_dtypes(include=\"int\").columns.to_list()"
   ]
  },
  {
   "cell_type": "code",
   "execution_count": 146,
   "metadata": {},
   "outputs": [],
   "source": [
    "si_obj=SimpleImputer(strategy=\"most_frequent\")\n",
    "df[obj]=si_obj.fit_transform(df[obj])\n",
    "si_float=SimpleImputer(strategy=\"median\")\n",
    "df[flo]=si_float.fit_transform(df[flo])"
   ]
  },
  {
   "cell_type": "code",
   "execution_count": 147,
   "metadata": {},
   "outputs": [
    {
     "data": {
      "text/plain": [
       "brand                          0\n",
       "model                          0\n",
       "year                           0\n",
       "mileage                        0\n",
       "engine                         0\n",
       "engine_size                    0\n",
       "transmission                   0\n",
       "automatic_transmission         0\n",
       "fuel_type                      0\n",
       "drivetrain                     0\n",
       "min_mpg                        0\n",
       "max_mpg                        0\n",
       "damaged                        0\n",
       "first_owner                    0\n",
       "personal_using                 0\n",
       "turbo                          0\n",
       "alloy_wheels                   0\n",
       "adaptive_cruise_control        0\n",
       "navigation_system              0\n",
       "power_liftgate                 0\n",
       "backup_camera                  0\n",
       "keyless_start                  0\n",
       "remote_start                   0\n",
       "sunroof/moonroof               0\n",
       "automatic_emergency_braking    0\n",
       "stability_control              0\n",
       "leather_seats                  0\n",
       "memory_seat                    0\n",
       "third_row_seating              0\n",
       "apple_car_play/android_auto    0\n",
       "bluetooth                      0\n",
       "usb_port                       0\n",
       "heated_seats                   0\n",
       "interior_color                 0\n",
       "exterior_color                 0\n",
       "price                          0\n",
       "dtype: int64"
      ]
     },
     "execution_count": 147,
     "metadata": {},
     "output_type": "execute_result"
    }
   ],
   "source": [
    "df.isnull().sum()"
   ]
  },
  {
   "cell_type": "code",
   "execution_count": 148,
   "metadata": {},
   "outputs": [],
   "source": [
    "flo=[i for i in flo if df[i].nunique() > 2]"
   ]
  },
  {
   "cell_type": "code",
   "execution_count": 149,
   "metadata": {},
   "outputs": [
    {
     "data": {
      "text/plain": [
       "['year', 'mileage', 'engine_size', 'min_mpg', 'max_mpg']"
      ]
     },
     "execution_count": 149,
     "metadata": {},
     "output_type": "execute_result"
    }
   ],
   "source": [
    "flo"
   ]
  },
  {
   "cell_type": "code",
   "execution_count": 150,
   "metadata": {},
   "outputs": [
    {
     "data": {
      "text/plain": [
       "<Axes: >"
      ]
     },
     "execution_count": 150,
     "metadata": {},
     "output_type": "execute_result"
    },
    {
     "data": {
      "image/png": "[encoded data removed]",
      "text/plain": [
       "<Figure size 640x480 with 1 Axes>"
      ]
     },
     "metadata": {},
     "output_type": "display_data"
    }
   ],
   "source": [
    "df[flo].boxplot()"
   ]
  },
  {
   "cell_type": "code",
   "execution_count": 151,
   "metadata": {},
   "outputs": [
    {
     "data": {
      "text/plain": [
       "<Axes: >"
      ]
     },
     "execution_count": 151,
     "metadata": {},
     "output_type": "execute_result"
    },
    {
     "data": {
      "image/png": "[encoded data removed]",
      "text/plain": [
       "<Figure size 640x480 with 1 Axes>"
      ]
     },
     "metadata": {},
     "output_type": "display_data"
    }
   ],
   "source": [
    "sns.violinplot(df['mileage'])"
   ]
  },
  {
   "cell_type": "code",
   "execution_count": 152,
   "metadata": {},
   "outputs": [],
   "source": [
    "def iqr(col):\n",
    "    qt_25=df[col].quantile(0.25)\n",
    "    qt_75=df[col].quantile(0.75)\n",
    "    iqr=qt_75-qt_25\n",
    "    low=qt_25-1.5*iqr\n",
    "    upp=qt_75+1.5*iqr\n",
    "    return (low,upp)"
   ]
  },
  {
   "cell_type": "code",
   "execution_count": 153,
   "metadata": {},
   "outputs": [],
   "source": [
    "low,upp=iqr('mileage')"
   ]
  },
  {
   "cell_type": "code",
   "execution_count": 154,
   "metadata": {},
   "outputs": [],
   "source": [
    "df.drop(df[df['mileage']>=upp].index,inplace=True)\n",
    "df.drop(df[df['mileage']<=low].index,inplace=True)\n",
    "df=df.reset_index(drop=True)"
   ]
  },
  {
   "cell_type": "code",
   "execution_count": 155,
   "metadata": {},
   "outputs": [
    {
     "data": {
      "text/plain": [
       "<Axes: >"
      ]
     },
     "execution_count": 155,
     "metadata": {},
     "output_type": "execute_result"
    },
    {
     "data": {
      "image/png": "[encoded data removed]",
      "text/plain": [
       "<Figure size 640x480 with 1 Axes>"
      ]
     },
     "metadata": {},
     "output_type": "display_data"
    }
   ],
   "source": [
    "sns.violinplot(df['mileage'])"
   ]
  },
  {
   "cell_type": "code",
   "execution_count": 156,
   "metadata": {},
   "outputs": [],
   "source": [
    "low,upp=iqr('price')"
   ]
  },
  {
   "cell_type": "code",
   "execution_count": 157,
   "metadata": {},
   "outputs": [
    {
     "data": {
      "text/plain": [
       "<Axes: >"
      ]
     },
     "execution_count": 157,
     "metadata": {},
     "output_type": "execute_result"
    },
    {
     "data": {
      "image/png": "[encoded data removed]",
      "text/plain": [
       "<Figure size 640x480 with 1 Axes>"
      ]
     },
     "metadata": {},
     "output_type": "display_data"
    }
   ],
   "source": [
    "df.drop(df[df['price']>=upp].index,inplace=True)\n",
    "df.drop(df[df['price']<=low].index,inplace=True)\n",
    "df=df.reset_index(drop=True)\n",
    "sns.violinplot(df['price'])"
   ]
  },
  {
   "cell_type": "code",
   "execution_count": 158,
   "metadata": {},
   "outputs": [
    {
     "data": {
      "text/plain": [
       "<Axes: >"
      ]
     },
     "execution_count": 158,
     "metadata": {},
     "output_type": "execute_result"
    },
    {
     "data": {
      "image/png": "[encoded data removed]",
      "text/plain": [
       "<Figure size 640x480 with 1 Axes>"
      ]
     },
     "metadata": {},
     "output_type": "display_data"
    }
   ],
   "source": [
    "df[flo].boxplot()"
   ]
  },
  {
   "cell_type": "code",
   "execution_count": 159,
   "metadata": {},
   "outputs": [
    {
     "data": {
      "text/plain": [
       "<Axes: >"
      ]
     },
     "execution_count": 159,
     "metadata": {},
     "output_type": "execute_result"
    },
    {
     "data": {
      "image/png": "[encoded data removed]",
      "text/plain": [
       "<Figure size 640x480 with 2 Axes>"
      ]
     },
     "metadata": {},
     "output_type": "display_data"
    }
   ],
   "source": [
    "sns.heatmap(df.corr())"
   ]
  },
  {
   "cell_type": "code",
   "execution_count": 160,
   "metadata": {},
   "outputs": [],
   "source": [
    "obj=df.select_dtypes(include=\"object\").columns.to_list()"
   ]
  },
  {
   "cell_type": "code",
   "execution_count": 161,
   "metadata": {},
   "outputs": [],
   "source": [
    "tar=[]\n",
    "ohe=[]\n",
    "for i in obj:\n",
    "    if(df[i].nunique()>10):\n",
    "        tar.append(i)\n",
    "    else:\n",
    "        ohe.append(i)"
   ]
  },
  {
   "cell_type": "code",
   "execution_count": 162,
   "metadata": {},
   "outputs": [
    {
     "data": {
      "text/plain": [
       "['brand',\n",
       " 'model',\n",
       " 'engine',\n",
       " 'transmission',\n",
       " 'interior_color',\n",
       " 'exterior_color']"
      ]
     },
     "execution_count": 162,
     "metadata": {},
     "output_type": "execute_result"
    }
   ],
   "source": [
    "tar"
   ]
  },
  {
   "cell_type": "code",
   "execution_count": 163,
   "metadata": {},
   "outputs": [
    {
     "data": {
      "text/plain": [
       "['fuel_type', 'drivetrain']"
      ]
     },
     "execution_count": 163,
     "metadata": {},
     "output_type": "execute_result"
    }
   ],
   "source": [
    "ohe"
   ]
  },
  {
   "cell_type": "code",
   "execution_count": 164,
   "metadata": {},
   "outputs": [],
   "source": [
    "x=df.drop(\"price\",axis=1)\n",
    "y=df[\"price\"]"
   ]
  },
  {
   "cell_type": "code",
   "execution_count": 32,
   "metadata": {},
   "outputs": [],
   "source": [
    "target=ce.TargetEncoder(cols=tar)\n",
    "x=target.fit_transform(x,y)\n",
    "one=ce.OneHotEncoder(cols=ohe)\n",
    "x=one.fit_transform(x)"
   ]
  },
  {
   "cell_type": "code",
   "execution_count": 33,
   "metadata": {},
   "outputs": [
    {
     "data": {
      "text/html": [
       "<div>\n",
       "<style scoped>\n",
       "    .dataframe tbody tr th:only-of-type {\n",
       "        vertical-align: middle;\n",
       "    }\n",
       "\n",
       "    .dataframe tbody tr th {\n",
       "        vertical-align: top;\n",
       "    }\n",
       "\n",
       "    .dataframe thead th {\n",
       "        text-align: right;\n",
       "    }\n",
       "</style>\n",
       "<table border=\"1\" class=\"dataframe\">\n",
       "  <thead>\n",
       "    <tr style=\"text-align: right;\">\n",
       "      <th></th>\n",
       "      <th>brand</th>\n",
       "      <th>model</th>\n",
       "      <th>year</th>\n",
       "      <th>mileage</th>\n",
       "      <th>engine</th>\n",
       "      <th>engine_size</th>\n",
       "      <th>transmission</th>\n",
       "      <th>automatic_transmission</th>\n",
       "      <th>fuel_type_1</th>\n",
       "      <th>fuel_type_2</th>\n",
       "      <th>...</th>\n",
       "      <th>stability_control</th>\n",
       "      <th>leather_seats</th>\n",
       "      <th>memory_seat</th>\n",
       "      <th>third_row_seating</th>\n",
       "      <th>apple_car_play/android_auto</th>\n",
       "      <th>bluetooth</th>\n",
       "      <th>usb_port</th>\n",
       "      <th>heated_seats</th>\n",
       "      <th>interior_color</th>\n",
       "      <th>exterior_color</th>\n",
       "    </tr>\n",
       "  </thead>\n",
       "  <tbody>\n",
       "    <tr>\n",
       "      <th>0</th>\n",
       "      <td>25137.883963</td>\n",
       "      <td>28133.099785</td>\n",
       "      <td>2022.0</td>\n",
       "      <td>6580.0</td>\n",
       "      <td>33066.305669</td>\n",
       "      <td>2.5</td>\n",
       "      <td>24363.567797</td>\n",
       "      <td>1.0</td>\n",
       "      <td>1</td>\n",
       "      <td>0</td>\n",
       "      <td>...</td>\n",
       "      <td>1.0</td>\n",
       "      <td>1.0</td>\n",
       "      <td>0.0</td>\n",
       "      <td>1.0</td>\n",
       "      <td>1.0</td>\n",
       "      <td>0.0</td>\n",
       "      <td>0.0</td>\n",
       "      <td>1.0</td>\n",
       "      <td>31492.320856</td>\n",
       "      <td>27751.86015</td>\n",
       "    </tr>\n",
       "    <tr>\n",
       "      <th>1</th>\n",
       "      <td>33636.071708</td>\n",
       "      <td>34102.394186</td>\n",
       "      <td>2018.0</td>\n",
       "      <td>62717.0</td>\n",
       "      <td>34673.508538</td>\n",
       "      <td>2.9</td>\n",
       "      <td>36754.097304</td>\n",
       "      <td>1.0</td>\n",
       "      <td>1</td>\n",
       "      <td>0</td>\n",
       "      <td>...</td>\n",
       "      <td>1.0</td>\n",
       "      <td>0.0</td>\n",
       "      <td>1.0</td>\n",
       "      <td>0.0</td>\n",
       "      <td>1.0</td>\n",
       "      <td>1.0</td>\n",
       "      <td>0.0</td>\n",
       "      <td>0.0</td>\n",
       "      <td>31492.320856</td>\n",
       "      <td>33612.72431</td>\n",
       "    </tr>\n",
       "    <tr>\n",
       "      <th>2</th>\n",
       "      <td>35540.695586</td>\n",
       "      <td>34219.435609</td>\n",
       "      <td>2022.0</td>\n",
       "      <td>15463.0</td>\n",
       "      <td>48537.92196</td>\n",
       "      <td>5.3</td>\n",
       "      <td>36754.097304</td>\n",
       "      <td>1.0</td>\n",
       "      <td>1</td>\n",
       "      <td>0</td>\n",
       "      <td>...</td>\n",
       "      <td>0.0</td>\n",
       "      <td>0.0</td>\n",
       "      <td>0.0</td>\n",
       "      <td>0.0</td>\n",
       "      <td>0.0</td>\n",
       "      <td>0.0</td>\n",
       "      <td>0.0</td>\n",
       "      <td>1.0</td>\n",
       "      <td>40580.733096</td>\n",
       "      <td>29806.879066</td>\n",
       "    </tr>\n",
       "    <tr>\n",
       "      <th>3</th>\n",
       "      <td>20693.571238</td>\n",
       "      <td>22905.423758</td>\n",
       "      <td>2021.0</td>\n",
       "      <td>36727.0</td>\n",
       "      <td>18395.5</td>\n",
       "      <td>2.0</td>\n",
       "      <td>23900.005795</td>\n",
       "      <td>1.0</td>\n",
       "      <td>1</td>\n",
       "      <td>0</td>\n",
       "      <td>...</td>\n",
       "      <td>1.0</td>\n",
       "      <td>0.0</td>\n",
       "      <td>0.0</td>\n",
       "      <td>0.0</td>\n",
       "      <td>1.0</td>\n",
       "      <td>1.0</td>\n",
       "      <td>1.0</td>\n",
       "      <td>1.0</td>\n",
       "      <td>31492.320856</td>\n",
       "      <td>31859.56391</td>\n",
       "    </tr>\n",
       "    <tr>\n",
       "      <th>4</th>\n",
       "      <td>15202.220681</td>\n",
       "      <td>10015.448072</td>\n",
       "      <td>2012.0</td>\n",
       "      <td>83908.0</td>\n",
       "      <td>10760.963856</td>\n",
       "      <td>1.4</td>\n",
       "      <td>37118.963616</td>\n",
       "      <td>0.0</td>\n",
       "      <td>1</td>\n",
       "      <td>0</td>\n",
       "      <td>...</td>\n",
       "      <td>1.0</td>\n",
       "      <td>0.0</td>\n",
       "      <td>0.0</td>\n",
       "      <td>0.0</td>\n",
       "      <td>0.0</td>\n",
       "      <td>1.0</td>\n",
       "      <td>0.0</td>\n",
       "      <td>0.0</td>\n",
       "      <td>31492.320856</td>\n",
       "      <td>27073.998479</td>\n",
       "    </tr>\n",
       "    <tr>\n",
       "      <th>...</th>\n",
       "      <td>...</td>\n",
       "      <td>...</td>\n",
       "      <td>...</td>\n",
       "      <td>...</td>\n",
       "      <td>...</td>\n",
       "      <td>...</td>\n",
       "      <td>...</td>\n",
       "      <td>...</td>\n",
       "      <td>...</td>\n",
       "      <td>...</td>\n",
       "      <td>...</td>\n",
       "      <td>...</td>\n",
       "      <td>...</td>\n",
       "      <td>...</td>\n",
       "      <td>...</td>\n",
       "      <td>...</td>\n",
       "      <td>...</td>\n",
       "      <td>...</td>\n",
       "      <td>...</td>\n",
       "      <td>...</td>\n",
       "      <td>...</td>\n",
       "    </tr>\n",
       "    <tr>\n",
       "      <th>17531</th>\n",
       "      <td>38671.078348</td>\n",
       "      <td>32171.224254</td>\n",
       "      <td>2017.0</td>\n",
       "      <td>77886.0</td>\n",
       "      <td>38705.68652</td>\n",
       "      <td>3.5</td>\n",
       "      <td>37118.963616</td>\n",
       "      <td>1.0</td>\n",
       "      <td>1</td>\n",
       "      <td>0</td>\n",
       "      <td>...</td>\n",
       "      <td>1.0</td>\n",
       "      <td>1.0</td>\n",
       "      <td>1.0</td>\n",
       "      <td>0.0</td>\n",
       "      <td>0.0</td>\n",
       "      <td>1.0</td>\n",
       "      <td>1.0</td>\n",
       "      <td>1.0</td>\n",
       "      <td>31492.320856</td>\n",
       "      <td>34158.288797</td>\n",
       "    </tr>\n",
       "    <tr>\n",
       "      <th>17532</th>\n",
       "      <td>35540.695586</td>\n",
       "      <td>32647.333518</td>\n",
       "      <td>2020.0</td>\n",
       "      <td>30921.0</td>\n",
       "      <td>47524.434264</td>\n",
       "      <td>6.2</td>\n",
       "      <td>49095.996516</td>\n",
       "      <td>1.0</td>\n",
       "      <td>1</td>\n",
       "      <td>0</td>\n",
       "      <td>...</td>\n",
       "      <td>1.0</td>\n",
       "      <td>1.0</td>\n",
       "      <td>1.0</td>\n",
       "      <td>0.0</td>\n",
       "      <td>1.0</td>\n",
       "      <td>1.0</td>\n",
       "      <td>1.0</td>\n",
       "      <td>0.0</td>\n",
       "      <td>40580.733096</td>\n",
       "      <td>32824.625437</td>\n",
       "    </tr>\n",
       "    <tr>\n",
       "      <th>17533</th>\n",
       "      <td>25296.719557</td>\n",
       "      <td>42162.253429</td>\n",
       "      <td>2021.0</td>\n",
       "      <td>25490.0</td>\n",
       "      <td>38509.452905</td>\n",
       "      <td>3.8</td>\n",
       "      <td>37118.963616</td>\n",
       "      <td>1.0</td>\n",
       "      <td>1</td>\n",
       "      <td>0</td>\n",
       "      <td>...</td>\n",
       "      <td>1.0</td>\n",
       "      <td>1.0</td>\n",
       "      <td>1.0</td>\n",
       "      <td>1.0</td>\n",
       "      <td>0.0</td>\n",
       "      <td>1.0</td>\n",
       "      <td>0.0</td>\n",
       "      <td>1.0</td>\n",
       "      <td>31492.320856</td>\n",
       "      <td>33244.085104</td>\n",
       "    </tr>\n",
       "    <tr>\n",
       "      <th>17534</th>\n",
       "      <td>26967.444593</td>\n",
       "      <td>30035.914111</td>\n",
       "      <td>2019.0</td>\n",
       "      <td>30840.0</td>\n",
       "      <td>25737.142293</td>\n",
       "      <td>1.5</td>\n",
       "      <td>23900.005795</td>\n",
       "      <td>1.0</td>\n",
       "      <td>1</td>\n",
       "      <td>0</td>\n",
       "      <td>...</td>\n",
       "      <td>1.0</td>\n",
       "      <td>0.0</td>\n",
       "      <td>0.0</td>\n",
       "      <td>0.0</td>\n",
       "      <td>1.0</td>\n",
       "      <td>1.0</td>\n",
       "      <td>1.0</td>\n",
       "      <td>0.0</td>\n",
       "      <td>23671.528129</td>\n",
       "      <td>31859.56391</td>\n",
       "    </tr>\n",
       "    <tr>\n",
       "      <th>17535</th>\n",
       "      <td>21290.858824</td>\n",
       "      <td>25067.290017</td>\n",
       "      <td>2016.0</td>\n",
       "      <td>110107.0</td>\n",
       "      <td>19187.67511</td>\n",
       "      <td>1.6</td>\n",
       "      <td>24363.567797</td>\n",
       "      <td>1.0</td>\n",
       "      <td>1</td>\n",
       "      <td>0</td>\n",
       "      <td>...</td>\n",
       "      <td>1.0</td>\n",
       "      <td>1.0</td>\n",
       "      <td>0.0</td>\n",
       "      <td>0.0</td>\n",
       "      <td>0.0</td>\n",
       "      <td>1.0</td>\n",
       "      <td>1.0</td>\n",
       "      <td>1.0</td>\n",
       "      <td>22818.272251</td>\n",
       "      <td>27357.655215</td>\n",
       "    </tr>\n",
       "  </tbody>\n",
       "</table>\n",
       "<p>17536 rows × 47 columns</p>\n",
       "</div>"
      ],
      "text/plain": [
       "              brand         model    year   mileage        engine  \\\n",
       "0      25137.883963  28133.099785  2022.0    6580.0  33066.305669   \n",
       "1      33636.071708  34102.394186  2018.0   62717.0  34673.508538   \n",
       "2      35540.695586  34219.435609  2022.0   15463.0   48537.92196   \n",
       "3      20693.571238  22905.423758  2021.0   36727.0       18395.5   \n",
       "4      15202.220681  10015.448072  2012.0   83908.0  10760.963856   \n",
       "...             ...           ...     ...       ...           ...   \n",
       "17531  38671.078348  32171.224254  2017.0   77886.0   38705.68652   \n",
       "17532  35540.695586  32647.333518  2020.0   30921.0  47524.434264   \n",
       "17533  25296.719557  42162.253429  2021.0   25490.0  38509.452905   \n",
       "17534  26967.444593  30035.914111  2019.0   30840.0  25737.142293   \n",
       "17535  21290.858824  25067.290017  2016.0  110107.0   19187.67511   \n",
       "\n",
       "       engine_size  transmission  automatic_transmission  fuel_type_1  \\\n",
       "0              2.5  24363.567797                     1.0            1   \n",
       "1              2.9  36754.097304                     1.0            1   \n",
       "2              5.3  36754.097304                     1.0            1   \n",
       "3              2.0  23900.005795                     1.0            1   \n",
       "4              1.4  37118.963616                     0.0            1   \n",
       "...            ...           ...                     ...          ...   \n",
       "17531          3.5  37118.963616                     1.0            1   \n",
       "17532          6.2  49095.996516                     1.0            1   \n",
       "17533          3.8  37118.963616                     1.0            1   \n",
       "17534          1.5  23900.005795                     1.0            1   \n",
       "17535          1.6  24363.567797                     1.0            1   \n",
       "\n",
       "       fuel_type_2  ...  stability_control  leather_seats  memory_seat  \\\n",
       "0                0  ...                1.0            1.0          0.0   \n",
       "1                0  ...                1.0            0.0          1.0   \n",
       "2                0  ...                0.0            0.0          0.0   \n",
       "3                0  ...                1.0            0.0          0.0   \n",
       "4                0  ...                1.0            0.0          0.0   \n",
       "...            ...  ...                ...            ...          ...   \n",
       "17531            0  ...                1.0            1.0          1.0   \n",
       "17532            0  ...                1.0            1.0          1.0   \n",
       "17533            0  ...                1.0            1.0          1.0   \n",
       "17534            0  ...                1.0            0.0          0.0   \n",
       "17535            0  ...                1.0            1.0          0.0   \n",
       "\n",
       "       third_row_seating  apple_car_play/android_auto  bluetooth  usb_port  \\\n",
       "0                    1.0                          1.0        0.0       0.0   \n",
       "1                    0.0                          1.0        1.0       0.0   \n",
       "2                    0.0                          0.0        0.0       0.0   \n",
       "3                    0.0                          1.0        1.0       1.0   \n",
       "4                    0.0                          0.0        1.0       0.0   \n",
       "...                  ...                          ...        ...       ...   \n",
       "17531                0.0                          0.0        1.0       1.0   \n",
       "17532                0.0                          1.0        1.0       1.0   \n",
       "17533                1.0                          0.0        1.0       0.0   \n",
       "17534                0.0                          1.0        1.0       1.0   \n",
       "17535                0.0                          0.0        1.0       1.0   \n",
       "\n",
       "       heated_seats  interior_color  exterior_color  \n",
       "0               1.0    31492.320856     27751.86015  \n",
       "1               0.0    31492.320856     33612.72431  \n",
       "2               1.0    40580.733096    29806.879066  \n",
       "3               1.0    31492.320856     31859.56391  \n",
       "4               0.0    31492.320856    27073.998479  \n",
       "...             ...             ...             ...  \n",
       "17531           1.0    31492.320856    34158.288797  \n",
       "17532           0.0    40580.733096    32824.625437  \n",
       "17533           1.0    31492.320856    33244.085104  \n",
       "17534           0.0    23671.528129     31859.56391  \n",
       "17535           1.0    22818.272251    27357.655215  \n",
       "\n",
       "[17536 rows x 47 columns]"
      ]
     },
     "execution_count": 33,
     "metadata": {},
     "output_type": "execute_result"
    }
   ],
   "source": [
    "x"
   ]
  },
  {
   "cell_type": "code",
   "execution_count": 165,
   "metadata": {},
   "outputs": [],
   "source": [
    "x_train,x_test,y_train,y_test=train_test_split(x,y,test_size=.30,random_state=50)"
   ]
  },
  {
   "cell_type": "code",
   "execution_count": 35,
   "metadata": {},
   "outputs": [],
   "source": [
    "sc=StandardScaler()\n",
    "x_train=sc.fit_transform(x_train)\n",
    "x_test=sc.fit_transform(x_test)"
   ]
  },
  {
   "cell_type": "code",
   "execution_count": 36,
   "metadata": {},
   "outputs": [],
   "source": [
    "from sklearn.feature_selection import SelectKBest,f_regression"
   ]
  },
  {
   "cell_type": "code",
   "execution_count": 37,
   "metadata": {},
   "outputs": [],
   "source": [
    "kb=SelectKBest(f_regression,k=39)\n",
    "x_train=kb.fit_transform(x_train,y_train)\n",
    "x_test=kb.transform(x_test)"
   ]
  },
  {
   "cell_type": "code",
   "execution_count": 38,
   "metadata": {},
   "outputs": [
    {
     "data": {
      "text/plain": [
       "model                          13759.025201\n",
       "engine                         10943.870854\n",
       "mileage                         6742.755400\n",
       "brand                           4384.369426\n",
       "exterior_color                  3990.096628\n",
       "transmission                    3606.746519\n",
       "year                            3388.630192\n",
       "drivetrain_2                    3135.314961\n",
       "navigation_system               2696.590862\n",
       "memory_seat                     2545.574142\n",
       "interior_color                  2262.741762\n",
       "drivetrain_1                    1816.688169\n",
       "power_liftgate                  1557.810468\n",
       "remote_start                    1159.020535\n",
       "first_owner                     1142.152612\n",
       "apple_car_play/android_auto     1098.852998\n",
       "leather_seats                   1028.351245\n",
       "sunroof/moonroof                 818.844600\n",
       "max_mpg                          790.848623\n",
       "adaptive_cruise_control          663.514588\n",
       "min_mpg                          639.348994\n",
       "heated_seats                     528.139874\n",
       "damaged                          509.421135\n",
       "turbo                            456.530137\n",
       "third_row_seating                414.792964\n",
       "backup_camera                    286.285468\n",
       "automatic_transmission           274.409166\n",
       "usb_port                         262.459483\n",
       "fuel_type_2                      103.102012\n",
       "bluetooth                         92.232742\n",
       "alloy_wheels                      66.197542\n",
       "stability_control                 65.599105\n",
       "drivetrain_3                      55.014510\n",
       "engine_size                       53.864585\n",
       "fuel_type_1                       45.623937\n",
       "fuel_type_3                       33.747205\n",
       "fuel_type_5                       17.333172\n",
       "keyless_start                     12.420898\n",
       "automatic_emergency_braking        7.510865\n",
       "drivetrain_4                       1.006024\n",
       "drivetrain_5                       0.647971\n",
       "fuel_type_6                        0.560184\n",
       "fuel_type_7                        0.520806\n",
       "fuel_type_9                        0.455634\n",
       "fuel_type_4                        0.201596\n",
       "personal_using                     0.144892\n",
       "fuel_type_8                        0.000000\n",
       "dtype: float64"
      ]
     },
     "execution_count": 38,
     "metadata": {},
     "output_type": "execute_result"
    }
   ],
   "source": [
    "fet_imp=pd.Series(kb.scores_,x.columns)\n",
    "fet_imp.sort_values(ascending=False)"
   ]
  },
  {
   "cell_type": "code",
   "execution_count": 39,
   "metadata": {},
   "outputs": [
    {
     "data": {
      "text/html": [
       "<div>\n",
       "<style scoped>\n",
       "    .dataframe tbody tr th:only-of-type {\n",
       "        vertical-align: middle;\n",
       "    }\n",
       "\n",
       "    .dataframe tbody tr th {\n",
       "        vertical-align: top;\n",
       "    }\n",
       "\n",
       "    .dataframe thead th {\n",
       "        text-align: right;\n",
       "    }\n",
       "</style>\n",
       "<table border=\"1\" class=\"dataframe\">\n",
       "  <thead>\n",
       "    <tr style=\"text-align: right;\">\n",
       "      <th></th>\n",
       "      <th>Model Name</th>\n",
       "      <th>Mean_Absolute_Error_MAE</th>\n",
       "      <th>Adj_R_Square</th>\n",
       "      <th>Root_Mean_Squared_Error_RMSE</th>\n",
       "      <th>Mean_Absolute_Percentage_Error_MAPE</th>\n",
       "      <th>Mean_Squared_Error_MSE</th>\n",
       "      <th>Root_Mean_Squared_Log_Error_RMSLE</th>\n",
       "      <th>R2_score</th>\n",
       "    </tr>\n",
       "  </thead>\n",
       "  <tbody>\n",
       "  </tbody>\n",
       "</table>\n",
       "</div>"
      ],
      "text/plain": [
       "Empty DataFrame\n",
       "Columns: [Model Name, Mean_Absolute_Error_MAE, Adj_R_Square, Root_Mean_Squared_Error_RMSE, Mean_Absolute_Percentage_Error_MAPE, Mean_Squared_Error_MSE, Root_Mean_Squared_Log_Error_RMSLE, R2_score]\n",
       "Index: []"
      ]
     },
     "execution_count": 39,
     "metadata": {},
     "output_type": "execute_result"
    }
   ],
   "source": [
    "a={'Model Name':[], 'Mean_Absolute_Error_MAE':[] ,'Adj_R_Square':[] ,'Root_Mean_Squared_Error_RMSE':[] ,'Mean_Absolute_Percentage_Error_MAPE':[] ,'Mean_Squared_Error_MSE':[] ,'Root_Mean_Squared_Log_Error_RMSLE':[] ,'R2_score':[]}\n",
    "Results=pd.DataFrame(a)\n",
    "Results.head()"
   ]
  },
  {
   "cell_type": "code",
   "execution_count": 40,
   "metadata": {},
   "outputs": [
    {
     "name": "stdout",
     "output_type": "stream",
     "text": [
      "Model Name:  LinearRegression()\n",
      "Mean Absolute Error (MAE): 5102.452\n",
      "Mean Squared Error (MSE): 47035647.255\n",
      "Root Mean Squared Error (RMSE): 6858.254\n",
      "R2_score: 0.799398\n",
      "Root Mean Squared Log Error (RMSLE): 8.833\n",
      "Mean Absolute Percentage Error (MAPE): 20.09 %\n",
      "Adj R Square:  0.798859\n",
      "------------------------------------------------------------------------------------------------------------\n",
      "Model Name:  DecisionTreeRegressor()\n",
      "Mean Absolute Error (MAE): 4305.173\n",
      "Mean Squared Error (MSE): 40103073.506\n",
      "Root Mean Squared Error (RMSE): 6332.699\n",
      "R2_score: 0.828964\n",
      "Root Mean Squared Log Error (RMSLE): 8.753\n",
      "Mean Absolute Percentage Error (MAPE): 15.11 %\n",
      "Adj R Square:  0.828504\n",
      "------------------------------------------------------------------------------------------------------------\n"
     ]
    },
    {
     "name": "stderr",
     "output_type": "stream",
     "text": [
      "C:\\Users\\Gopal Kholade\\AppData\\Local\\Temp\\ipykernel_19668\\2425221519.py:75: FutureWarning: The frame.append method is deprecated and will be removed from pandas in a future version. Use pandas.concat instead.\n",
      "  Results = Results.append(new_row, ignore_index=True)\n",
      "C:\\Users\\Gopal Kholade\\AppData\\Local\\Temp\\ipykernel_19668\\2425221519.py:75: FutureWarning: The frame.append method is deprecated and will be removed from pandas in a future version. Use pandas.concat instead.\n",
      "  Results = Results.append(new_row, ignore_index=True)\n"
     ]
    },
    {
     "name": "stdout",
     "output_type": "stream",
     "text": [
      "Model Name:  RandomForestRegressor()\n",
      "Mean Absolute Error (MAE): 3052.369\n",
      "Mean Squared Error (MSE): 19381847.064\n",
      "Root Mean Squared Error (RMSE): 4402.482\n",
      "R2_score: 0.917338\n",
      "Root Mean Squared Log Error (RMSLE): 8.39\n",
      "Mean Absolute Percentage Error (MAPE): 10.81 %\n",
      "Adj R Square:  0.917116\n",
      "------------------------------------------------------------------------------------------------------------\n",
      "Model Name:  KNeighborsRegressor()\n",
      "Mean Absolute Error (MAE): 4886.141\n",
      "Mean Squared Error (MSE): 48774509.901\n",
      "Root Mean Squared Error (RMSE): 6983.875\n",
      "R2_score: 0.791982\n",
      "Root Mean Squared Log Error (RMSLE): 8.851\n",
      "Mean Absolute Percentage Error (MAPE): 17.44 %\n",
      "Adj R Square:  0.791423\n",
      "------------------------------------------------------------------------------------------------------------\n"
     ]
    },
    {
     "name": "stderr",
     "output_type": "stream",
     "text": [
      "C:\\Users\\Gopal Kholade\\AppData\\Local\\Temp\\ipykernel_19668\\2425221519.py:75: FutureWarning: The frame.append method is deprecated and will be removed from pandas in a future version. Use pandas.concat instead.\n",
      "  Results = Results.append(new_row, ignore_index=True)\n",
      "C:\\Users\\Gopal Kholade\\AppData\\Local\\Temp\\ipykernel_19668\\2425221519.py:75: FutureWarning: The frame.append method is deprecated and will be removed from pandas in a future version. Use pandas.concat instead.\n",
      "  Results = Results.append(new_row, ignore_index=True)\n"
     ]
    },
    {
     "name": "stdout",
     "output_type": "stream",
     "text": [
      "Model Name:  ExtraTreesRegressor()\n",
      "Mean Absolute Error (MAE): 2882.193\n",
      "Mean Squared Error (MSE): 17116569.247\n",
      "Root Mean Squared Error (RMSE): 4137.218\n",
      "R2_score: 0.927\n",
      "Root Mean Squared Log Error (RMSLE): 8.328\n",
      "Mean Absolute Percentage Error (MAPE): 10.54 %\n",
      "Adj R Square:  0.926804\n",
      "------------------------------------------------------------------------------------------------------------\n"
     ]
    },
    {
     "name": "stderr",
     "output_type": "stream",
     "text": [
      "C:\\Users\\Gopal Kholade\\AppData\\Local\\Temp\\ipykernel_19668\\2425221519.py:75: FutureWarning: The frame.append method is deprecated and will be removed from pandas in a future version. Use pandas.concat instead.\n",
      "  Results = Results.append(new_row, ignore_index=True)\n"
     ]
    },
    {
     "name": "stdout",
     "output_type": "stream",
     "text": [
      "Model Name:  GradientBoostingRegressor()\n",
      "Mean Absolute Error (MAE): 3467.206\n",
      "Mean Squared Error (MSE): 23531549.299\n",
      "Root Mean Squared Error (RMSE): 4850.933\n",
      "R2_score: 0.89964\n",
      "Root Mean Squared Log Error (RMSLE): 8.487\n",
      "Mean Absolute Percentage Error (MAPE): 12.41 %\n",
      "Adj R Square:  0.89937\n",
      "------------------------------------------------------------------------------------------------------------\n"
     ]
    },
    {
     "name": "stderr",
     "output_type": "stream",
     "text": [
      "C:\\Users\\Gopal Kholade\\AppData\\Local\\Temp\\ipykernel_19668\\2425221519.py:75: FutureWarning: The frame.append method is deprecated and will be removed from pandas in a future version. Use pandas.concat instead.\n",
      "  Results = Results.append(new_row, ignore_index=True)\n"
     ]
    },
    {
     "name": "stdout",
     "output_type": "stream",
     "text": [
      "Model Name:  XGBRegressor(base_score=None, booster=None, callbacks=None,\n",
      "             colsample_bylevel=None, colsample_bynode=None,\n",
      "             colsample_bytree=None, early_stopping_rounds=None,\n",
      "             enable_categorical=False, eval_metric=None, feature_types=None,\n",
      "             gamma=None, gpu_id=None, grow_policy=None, importance_type=None,\n",
      "             interaction_constraints=None, learning_rate=None, max_bin=None,\n",
      "             max_cat_threshold=None, max_cat_to_onehot=None,\n",
      "             max_delta_step=None, max_depth=None, max_leaves=None,\n",
      "             min_child_weight=None, missing=nan, monotone_constraints=None,\n",
      "             n_estimators=100, n_jobs=None, num_parallel_tree=None,\n",
      "             predictor=None, random_state=None, ...)\n",
      "Mean Absolute Error (MAE): 2924.782\n",
      "Mean Squared Error (MSE): 17008594.659\n",
      "Root Mean Squared Error (RMSE): 4124.148\n",
      "R2_score: 0.92746\n",
      "Root Mean Squared Log Error (RMSLE): 8.325\n",
      "Mean Absolute Percentage Error (MAPE): 10.32 %\n",
      "Adj R Square:  0.927265\n",
      "------------------------------------------------------------------------------------------------------------\n"
     ]
    },
    {
     "name": "stderr",
     "output_type": "stream",
     "text": [
      "C:\\Users\\Gopal Kholade\\AppData\\Local\\Temp\\ipykernel_19668\\2425221519.py:75: FutureWarning: The frame.append method is deprecated and will be removed from pandas in a future version. Use pandas.concat instead.\n",
      "  Results = Results.append(new_row, ignore_index=True)\n"
     ]
    },
    {
     "name": "stdout",
     "output_type": "stream",
     "text": [
      "Model Name:  RandomForestRegressor()\n",
      "Mean Absolute Error (MAE): 3058.727\n",
      "Mean Squared Error (MSE): 19523006.152\n",
      "Root Mean Squared Error (RMSE): 4418.485\n",
      "R2_score: 0.916736\n",
      "Root Mean Squared Log Error (RMSLE): 8.394\n",
      "Mean Absolute Percentage Error (MAPE): 10.86 %\n",
      "Adj R Square:  0.916512\n",
      "------------------------------------------------------------------------------------------------------------\n",
      "Model Name:  GammaRegressor()\n",
      "Mean Absolute Error (MAE): 5174.559\n",
      "Mean Squared Error (MSE): 53930764.414\n",
      "Root Mean Squared Error (RMSE): 7343.757\n",
      "R2_score: 0.769991\n",
      "Root Mean Squared Log Error (RMSLE): 8.902\n",
      "Mean Absolute Percentage Error (MAPE): 19.41 %\n",
      "Adj R Square:  0.769373\n",
      "------------------------------------------------------------------------------------------------------------\n",
      "Model Name:  PassiveAggressiveRegressor()\n",
      "Mean Absolute Error (MAE): 4964.312\n",
      "Mean Squared Error (MSE): 50934738.447\n",
      "Root Mean Squared Error (RMSE): 7136.858\n",
      "R2_score: 0.782768\n",
      "Root Mean Squared Log Error (RMSLE): 8.873\n",
      "Mean Absolute Percentage Error (MAPE): 18.43 %\n",
      "Adj R Square:  0.782184\n",
      "------------------------------------------------------------------------------------------------------------\n"
     ]
    },
    {
     "name": "stderr",
     "output_type": "stream",
     "text": [
      "C:\\Users\\Gopal Kholade\\AppData\\Local\\Temp\\ipykernel_19668\\2425221519.py:75: FutureWarning: The frame.append method is deprecated and will be removed from pandas in a future version. Use pandas.concat instead.\n",
      "  Results = Results.append(new_row, ignore_index=True)\n",
      "C:\\Users\\Gopal Kholade\\AppData\\Local\\Temp\\ipykernel_19668\\2425221519.py:75: FutureWarning: The frame.append method is deprecated and will be removed from pandas in a future version. Use pandas.concat instead.\n",
      "  Results = Results.append(new_row, ignore_index=True)\n",
      "C:\\Users\\Gopal Kholade\\AppData\\Local\\Temp\\ipykernel_19668\\2425221519.py:75: FutureWarning: The frame.append method is deprecated and will be removed from pandas in a future version. Use pandas.concat instead.\n",
      "  Results = Results.append(new_row, ignore_index=True)\n"
     ]
    }
   ],
   "source": [
    "# Create objects of Regression / Regressor models with default hyper-parameters\n",
    "\n",
    "modelmlg = LinearRegression()\n",
    "modeldcr = DecisionTreeRegressor()\n",
    "modelrfr = RandomForestRegressor()\n",
    "modelSVR = SVR()\n",
    "modelXGR = XGBRegressor()\n",
    "modelKNN = KNeighborsRegressor(n_neighbors=5)\n",
    "modelETR = ExtraTreesRegressor()\n",
    "rf       = RandomForestRegressor()\n",
    "gamm     = GammaRegressor()\n",
    "act      = PassiveAggressiveRegressor()\n",
    "\n",
    "modelGBR = GradientBoostingRegressor(loss='squared_error', learning_rate=0.1, n_estimators=100, subsample=1.0,\n",
    "                                     criterion='friedman_mse', min_samples_split=2, min_samples_leaf=1,\n",
    "                                     min_weight_fraction_leaf=0.0, max_depth=3, min_impurity_decrease=0.0,\n",
    "                                     init=None, random_state=None, max_features=None,\n",
    "                                     alpha=0.9, verbose=0, max_leaf_nodes=None, warm_start=False,\n",
    "                                     validation_fraction=0.1, n_iter_no_change=None, tol=0.0001, ccp_alpha=0.0)\n",
    "\n",
    "# Evalution matrix for all the algorithms\n",
    "\n",
    "MM = [modelmlg, modeldcr, modelrfr, modelKNN, modelETR, modelGBR, modelXGR,rf,gamm,act]\n",
    "\n",
    "for models in MM:\n",
    "    \n",
    "    # Fit the model with train data\n",
    "    \n",
    "    models.fit(x_train, y_train)\n",
    "    \n",
    "    # Predict the model with test data\n",
    "\n",
    "    y_pred = models.predict(x_test)\n",
    "    \n",
    "    # Print the model name\n",
    "    \n",
    "    print('Model Name: ', models)\n",
    "    \n",
    "    # Evaluation metrics for Regression analysis\n",
    "\n",
    "    from sklearn import metrics\n",
    "\n",
    "    print('Mean Absolute Error (MAE):', round(metrics.mean_absolute_error(y_test, y_pred),3))  \n",
    "    print('Mean Squared Error (MSE):', round(metrics.mean_squared_error(y_test, y_pred),3))  \n",
    "    print('Root Mean Squared Error (RMSE):', round(np.sqrt(metrics.mean_squared_error(y_test, y_pred)),3))\n",
    "    print('R2_score:', round(metrics.r2_score(y_test, y_pred),6))\n",
    "    print('Root Mean Squared Log Error (RMSLE):', round(np.log(np.sqrt(metrics.mean_squared_error(y_test, y_pred))),3))\n",
    "    \n",
    "    # Define the function to calculate the MAPE - Mean Absolute Percentage Error\n",
    "\n",
    "    def MAPE (y_test, y_pred):\n",
    "        y_test, y_pred = np.array(y_test), np.array(y_pred)\n",
    "        return np.mean(np.abs((y_test - y_pred) / y_test)) * 100\n",
    "    \n",
    "    # Evaluation of MAPE \n",
    "\n",
    "    result = MAPE(y_test, y_pred)\n",
    "    print('Mean Absolute Percentage Error (MAPE):', round(result, 2), '%')\n",
    "    \n",
    "    # Calculate Adjusted R squared values \n",
    "\n",
    "    r_squared = round(metrics.r2_score(y_test, y_pred),6)\n",
    "    adjusted_r_squared = round(1 - (1-r_squared)*(len(y)-1)/(len(y)-x.shape[1]-1),6)\n",
    "    print('Adj R Square: ', adjusted_r_squared)\n",
    "    print('------------------------------------------------------------------------------------------------------------')\n",
    "    #-------------------------------------------------------------------------------------------\n",
    "    new_row = {'Model Name' : models,\n",
    "               'Mean_Absolute_Error_MAE' : metrics.mean_absolute_error(y_test, y_pred),\n",
    "               'Adj_R_Square' : adjusted_r_squared,\n",
    "               'Root_Mean_Squared_Error_RMSE' : np.sqrt(metrics.mean_squared_error(y_test, y_pred)),\n",
    "               'Mean_Absolute_Percentage_Error_MAPE' : result,\n",
    "               'Mean_Squared_Error_MSE' : metrics.mean_squared_error(y_test, y_pred),\n",
    "               'Root_Mean_Squared_Log_Error_RMSLE': np.log(np.sqrt(metrics.mean_squared_error(y_test, y_pred))),\n",
    "               'R2_score' : metrics.r2_score(y_test, y_pred)}\n",
    "    Results = Results.append(new_row, ignore_index=True)"
   ]
  },
  {
   "cell_type": "code",
   "execution_count": 41,
   "metadata": {},
   "outputs": [
    {
     "data": {
      "text/html": [
       "<div>\n",
       "<style scoped>\n",
       "    .dataframe tbody tr th:only-of-type {\n",
       "        vertical-align: middle;\n",
       "    }\n",
       "\n",
       "    .dataframe tbody tr th {\n",
       "        vertical-align: top;\n",
       "    }\n",
       "\n",
       "    .dataframe thead th {\n",
       "        text-align: right;\n",
       "    }\n",
       "</style>\n",
       "<table border=\"1\" class=\"dataframe\">\n",
       "  <thead>\n",
       "    <tr style=\"text-align: right;\">\n",
       "      <th></th>\n",
       "      <th>Model Name</th>\n",
       "      <th>Mean_Absolute_Error_MAE</th>\n",
       "      <th>Adj_R_Square</th>\n",
       "      <th>Root_Mean_Squared_Error_RMSE</th>\n",
       "      <th>Mean_Absolute_Percentage_Error_MAPE</th>\n",
       "      <th>Mean_Squared_Error_MSE</th>\n",
       "      <th>Root_Mean_Squared_Log_Error_RMSLE</th>\n",
       "      <th>R2_score</th>\n",
       "    </tr>\n",
       "  </thead>\n",
       "  <tbody>\n",
       "    <tr>\n",
       "      <th>0</th>\n",
       "      <td>LinearRegression()</td>\n",
       "      <td>5102.452414</td>\n",
       "      <td>0.798859</td>\n",
       "      <td>6858.253951</td>\n",
       "      <td>20.086723</td>\n",
       "      <td>4.703565e+07</td>\n",
       "      <td>8.833208</td>\n",
       "      <td>0.799398</td>\n",
       "    </tr>\n",
       "    <tr>\n",
       "      <th>1</th>\n",
       "      <td>DecisionTreeRegressor()</td>\n",
       "      <td>4305.173161</td>\n",
       "      <td>0.828504</td>\n",
       "      <td>6332.698754</td>\n",
       "      <td>15.108997</td>\n",
       "      <td>4.010307e+07</td>\n",
       "      <td>8.753482</td>\n",
       "      <td>0.828964</td>\n",
       "    </tr>\n",
       "    <tr>\n",
       "      <th>2</th>\n",
       "      <td>(DecisionTreeRegressor(max_features=1.0, rando...</td>\n",
       "      <td>3052.368863</td>\n",
       "      <td>0.917116</td>\n",
       "      <td>4402.481921</td>\n",
       "      <td>10.812620</td>\n",
       "      <td>1.938185e+07</td>\n",
       "      <td>8.389924</td>\n",
       "      <td>0.917338</td>\n",
       "    </tr>\n",
       "    <tr>\n",
       "      <th>3</th>\n",
       "      <td>KNeighborsRegressor()</td>\n",
       "      <td>4886.141190</td>\n",
       "      <td>0.791423</td>\n",
       "      <td>6983.874992</td>\n",
       "      <td>17.442416</td>\n",
       "      <td>4.877451e+07</td>\n",
       "      <td>8.851359</td>\n",
       "      <td>0.791982</td>\n",
       "    </tr>\n",
       "    <tr>\n",
       "      <th>4</th>\n",
       "      <td>(ExtraTreeRegressor(random_state=1601163144), ...</td>\n",
       "      <td>2882.193167</td>\n",
       "      <td>0.926804</td>\n",
       "      <td>4137.217573</td>\n",
       "      <td>10.544505</td>\n",
       "      <td>1.711657e+07</td>\n",
       "      <td>8.327779</td>\n",
       "      <td>0.927000</td>\n",
       "    </tr>\n",
       "    <tr>\n",
       "      <th>5</th>\n",
       "      <td>([DecisionTreeRegressor(criterion='friedman_ms...</td>\n",
       "      <td>3467.206094</td>\n",
       "      <td>0.899370</td>\n",
       "      <td>4850.932828</td>\n",
       "      <td>12.406038</td>\n",
       "      <td>2.353155e+07</td>\n",
       "      <td>8.486926</td>\n",
       "      <td>0.899640</td>\n",
       "    </tr>\n",
       "    <tr>\n",
       "      <th>6</th>\n",
       "      <td>XGBRegressor(base_score=None, booster=None, ca...</td>\n",
       "      <td>2924.781606</td>\n",
       "      <td>0.927265</td>\n",
       "      <td>4124.147749</td>\n",
       "      <td>10.316251</td>\n",
       "      <td>1.700859e+07</td>\n",
       "      <td>8.324615</td>\n",
       "      <td>0.927460</td>\n",
       "    </tr>\n",
       "    <tr>\n",
       "      <th>7</th>\n",
       "      <td>(DecisionTreeRegressor(max_features=1.0, rando...</td>\n",
       "      <td>3058.726791</td>\n",
       "      <td>0.916512</td>\n",
       "      <td>4418.484599</td>\n",
       "      <td>10.859467</td>\n",
       "      <td>1.952301e+07</td>\n",
       "      <td>8.393552</td>\n",
       "      <td>0.916736</td>\n",
       "    </tr>\n",
       "    <tr>\n",
       "      <th>8</th>\n",
       "      <td>GammaRegressor()</td>\n",
       "      <td>5174.558731</td>\n",
       "      <td>0.769373</td>\n",
       "      <td>7343.756832</td>\n",
       "      <td>19.411153</td>\n",
       "      <td>5.393076e+07</td>\n",
       "      <td>8.901606</td>\n",
       "      <td>0.769991</td>\n",
       "    </tr>\n",
       "    <tr>\n",
       "      <th>9</th>\n",
       "      <td>PassiveAggressiveRegressor()</td>\n",
       "      <td>4964.311944</td>\n",
       "      <td>0.782184</td>\n",
       "      <td>7136.857743</td>\n",
       "      <td>18.433707</td>\n",
       "      <td>5.093474e+07</td>\n",
       "      <td>8.873028</td>\n",
       "      <td>0.782768</td>\n",
       "    </tr>\n",
       "  </tbody>\n",
       "</table>\n",
       "</div>"
      ],
      "text/plain": [
       "                                          Model Name  Mean_Absolute_Error_MAE  \\\n",
       "0                                 LinearRegression()              5102.452414   \n",
       "1                            DecisionTreeRegressor()              4305.173161   \n",
       "2  (DecisionTreeRegressor(max_features=1.0, rando...              3052.368863   \n",
       "3                              KNeighborsRegressor()              4886.141190   \n",
       "4  (ExtraTreeRegressor(random_state=1601163144), ...              2882.193167   \n",
       "5  ([DecisionTreeRegressor(criterion='friedman_ms...              3467.206094   \n",
       "6  XGBRegressor(base_score=None, booster=None, ca...              2924.781606   \n",
       "7  (DecisionTreeRegressor(max_features=1.0, rando...              3058.726791   \n",
       "8                                   GammaRegressor()              5174.558731   \n",
       "9                       PassiveAggressiveRegressor()              4964.311944   \n",
       "\n",
       "   Adj_R_Square  Root_Mean_Squared_Error_RMSE  \\\n",
       "0      0.798859                   6858.253951   \n",
       "1      0.828504                   6332.698754   \n",
       "2      0.917116                   4402.481921   \n",
       "3      0.791423                   6983.874992   \n",
       "4      0.926804                   4137.217573   \n",
       "5      0.899370                   4850.932828   \n",
       "6      0.927265                   4124.147749   \n",
       "7      0.916512                   4418.484599   \n",
       "8      0.769373                   7343.756832   \n",
       "9      0.782184                   7136.857743   \n",
       "\n",
       "   Mean_Absolute_Percentage_Error_MAPE  Mean_Squared_Error_MSE  \\\n",
       "0                            20.086723            4.703565e+07   \n",
       "1                            15.108997            4.010307e+07   \n",
       "2                            10.812620            1.938185e+07   \n",
       "3                            17.442416            4.877451e+07   \n",
       "4                            10.544505            1.711657e+07   \n",
       "5                            12.406038            2.353155e+07   \n",
       "6                            10.316251            1.700859e+07   \n",
       "7                            10.859467            1.952301e+07   \n",
       "8                            19.411153            5.393076e+07   \n",
       "9                            18.433707            5.093474e+07   \n",
       "\n",
       "   Root_Mean_Squared_Log_Error_RMSLE  R2_score  \n",
       "0                           8.833208  0.799398  \n",
       "1                           8.753482  0.828964  \n",
       "2                           8.389924  0.917338  \n",
       "3                           8.851359  0.791982  \n",
       "4                           8.327779  0.927000  \n",
       "5                           8.486926  0.899640  \n",
       "6                           8.324615  0.927460  \n",
       "7                           8.393552  0.916736  \n",
       "8                           8.901606  0.769991  \n",
       "9                           8.873028  0.782768  "
      ]
     },
     "execution_count": 41,
     "metadata": {},
     "output_type": "execute_result"
    }
   ],
   "source": [
    "Results"
   ]
  },
  {
   "cell_type": "code",
   "execution_count": 42,
   "metadata": {},
   "outputs": [],
   "source": [
    "from sklearn.model_selection import RandomizedSearchCV\n",
    "param={'n_estimators': [1000,2000,3000],\n",
    "       'bootstrap': [True,False],\n",
    "       'ccp_alpha': [0.1,0.3,0.6],\n",
    "       'criterion': [\"squared_error\", \"absolute_error\", \"friedman_mse\", \"poisson\"]}"
   ]
  },
  {
   "cell_type": "code",
   "execution_count": 43,
   "metadata": {},
   "outputs": [
    {
     "name": "stdout",
     "output_type": "stream",
     "text": [
      "Fitting 3 folds for each of 10 candidates, totalling 30 fits\n"
     ]
    }
   ],
   "source": [
    "randm=RandomizedSearchCV(ExtraTreesRegressor(),param_distributions=param,n_iter=10,n_jobs=4,cv=3,verbose=3)\n",
    "randm.fit(x_train,y_train)"
   ]
  },
  {
   "cell_type": "code",
   "execution_count": 52,
   "metadata": {},
   "outputs": [
    {
     "data": {
      "text/html": [
       "<style>#sk-container-id-4 {color: black;background-color: white;}#sk-container-id-4 pre{padding: 0;}#sk-container-id-4 div.sk-toggleable {background-color: white;}#sk-container-id-4 label.sk-toggleable__label {cursor: pointer;display: block;width: 100%;margin-bottom: 0;padding: 0.3em;box-sizing: border-box;text-align: center;}#sk-container-id-4 label.sk-toggleable__label-arrow:before {content: \"▸\";float: left;margin-right: 0.25em;color: #696969;}#sk-container-id-4 label.sk-toggleable__label-arrow:hover:before {color: black;}#sk-container-id-4 div.sk-estimator:hover label.sk-toggleable__label-arrow:before {color: black;}#sk-container-id-4 div.sk-toggleable__content {max-height: 0;max-width: 0;overflow: hidden;text-align: left;background-color: #f0f8ff;}#sk-container-id-4 div.sk-toggleable__content pre {margin: 0.2em;color: black;border-radius: 0.25em;background-color: #f0f8ff;}#sk-container-id-4 input.sk-toggleable__control:checked~div.sk-toggleable__content {max-height: 200px;max-width: 100%;overflow: auto;}#sk-container-id-4 input.sk-toggleable__control:checked~label.sk-toggleable__label-arrow:before {content: \"▾\";}#sk-container-id-4 div.sk-estimator input.sk-toggleable__control:checked~label.sk-toggleable__label {background-color: #d4ebff;}#sk-container-id-4 div.sk-label input.sk-toggleable__control:checked~label.sk-toggleable__label {background-color: #d4ebff;}#sk-container-id-4 input.sk-hidden--visually {border: 0;clip: rect(1px 1px 1px 1px);clip: rect(1px, 1px, 1px, 1px);height: 1px;margin: -1px;overflow: hidden;padding: 0;position: absolute;width: 1px;}#sk-container-id-4 div.sk-estimator {font-family: monospace;background-color: #f0f8ff;border: 1px dotted black;border-radius: 0.25em;box-sizing: border-box;margin-bottom: 0.5em;}#sk-container-id-4 div.sk-estimator:hover {background-color: #d4ebff;}#sk-container-id-4 div.sk-parallel-item::after {content: \"\";width: 100%;border-bottom: 1px solid gray;flex-grow: 1;}#sk-container-id-4 div.sk-label:hover label.sk-toggleable__label {background-color: #d4ebff;}#sk-container-id-4 div.sk-serial::before {content: \"\";position: absolute;border-left: 1px solid gray;box-sizing: border-box;top: 0;bottom: 0;left: 50%;z-index: 0;}#sk-container-id-4 div.sk-serial {display: flex;flex-direction: column;align-items: center;background-color: white;padding-right: 0.2em;padding-left: 0.2em;position: relative;}#sk-container-id-4 div.sk-item {position: relative;z-index: 1;}#sk-container-id-4 div.sk-parallel {display: flex;align-items: stretch;justify-content: center;background-color: white;position: relative;}#sk-container-id-4 div.sk-item::before, #sk-container-id-4 div.sk-parallel-item::before {content: \"\";position: absolute;border-left: 1px solid gray;box-sizing: border-box;top: 0;bottom: 0;left: 50%;z-index: -1;}#sk-container-id-4 div.sk-parallel-item {display: flex;flex-direction: column;z-index: 1;position: relative;background-color: white;}#sk-container-id-4 div.sk-parallel-item:first-child::after {align-self: flex-end;width: 50%;}#sk-container-id-4 div.sk-parallel-item:last-child::after {align-self: flex-start;width: 50%;}#sk-container-id-4 div.sk-parallel-item:only-child::after {width: 0;}#sk-container-id-4 div.sk-dashed-wrapped {border: 1px dashed gray;margin: 0 0.4em 0.5em 0.4em;box-sizing: border-box;padding-bottom: 0.4em;background-color: white;}#sk-container-id-4 div.sk-label label {font-family: monospace;font-weight: bold;display: inline-block;line-height: 1.2em;}#sk-container-id-4 div.sk-label-container {text-align: center;}#sk-container-id-4 div.sk-container {/* jupyter's `normalize.less` sets `[hidden] { display: none; }` but bootstrap.min.css set `[hidden] { display: none !important; }` so we also need the `!important` here to be able to override the default hidden behavior on the sphinx rendered scikit-learn.org. See: https://github.com/scikit-learn/scikit-learn/issues/21755 */display: inline-block !important;position: relative;}#sk-container-id-4 div.sk-text-repr-fallback {display: none;}</style><div id=\"sk-container-id-4\" class=\"sk-top-container\"><div class=\"sk-text-repr-fallback\"><pre>ExtraTreesRegressor(bootstrap=True, ccp_alpha=0.1, criterion=&#x27;friedman_mse&#x27;,\n",
       "                    n_estimators=1000)</pre><b>In a Jupyter environment, please rerun this cell to show the HTML representation or trust the notebook. <br />On GitHub, the HTML representation is unable to render, please try loading this page with nbviewer.org.</b></div><div class=\"sk-container\" hidden><div class=\"sk-item\"><div class=\"sk-estimator sk-toggleable\"><input class=\"sk-toggleable__control sk-hidden--visually\" id=\"sk-estimator-id-4\" type=\"checkbox\" checked><label for=\"sk-estimator-id-4\" class=\"sk-toggleable__label sk-toggleable__label-arrow\">ExtraTreesRegressor</label><div class=\"sk-toggleable__content\"><pre>ExtraTreesRegressor(bootstrap=True, ccp_alpha=0.1, criterion=&#x27;friedman_mse&#x27;,\n",
       "                    n_estimators=1000)</pre></div></div></div></div></div>"
      ],
      "text/plain": [
       "ExtraTreesRegressor(bootstrap=True, ccp_alpha=0.1, criterion='friedman_mse',\n",
       "                    n_estimators=1000)"
      ]
     },
     "execution_count": 52,
     "metadata": {},
     "output_type": "execute_result"
    }
   ],
   "source": [
    "ext=ExtraTreesRegressor(n_estimators=1000,ccp_alpha=0.1,criterion=\"friedman_mse\")\n",
    "ext.fit(x_train,y_train)"
   ]
  },
  {
   "cell_type": "code",
   "execution_count": 53,
   "metadata": {},
   "outputs": [
    {
     "data": {
      "text/plain": [
       "0.9233714648651771"
      ]
     },
     "execution_count": 53,
     "metadata": {},
     "output_type": "execute_result"
    }
   ],
   "source": [
    "y_pred=ext.predict(x_test)\n",
    "r2_score(y_test,y_pred)"
   ]
  }
 ],
 "metadata": {
  "kernelspec": {
   "display_name": "Python 3 (ipykernel)",
   "language": "python",
   "name": "python3"
  },
  "language_info": {
   "codemirror_mode": {
    "name": "ipython",
    "version": 3
   },
   "file_extension": ".py",
   "mimetype": "text/x-python",
   "name": "python",
   "nbconvert_exporter": "python",
   "pygments_lexer": "ipython3",
   "version": "3.9.16"
  }
 },
 "nbformat": 4,
 "nbformat_minor": 2
}
